{
  "nbformat": 4,
  "nbformat_minor": 0,
  "metadata": {
    "colab": {
      "provenance": [],
      "authorship_tag": "ABX9TyNyntCG5VA0xgpmTjiB+SOk",
      "include_colab_link": true
    },
    "kernelspec": {
      "name": "python3",
      "display_name": "Python 3"
    },
    "language_info": {
      "name": "python"
    }
  },
  "cells": [
    {
      "cell_type": "markdown",
      "metadata": {
        "id": "view-in-github",
        "colab_type": "text"
      },
      "source": [
        "<a href=\"https://colab.research.google.com/github/PoPodada/Prog2kakushin/blob/main/work2.ipynb\" target=\"_parent\"><img src=\"https://colab.research.google.com/assets/colab-badge.svg\" alt=\"Open In Colab\"/></a>"
      ]
    },
    {
      "cell_type": "code",
      "execution_count": null,
      "metadata": {
        "id": "XL7d4Fhws-VN"
      },
      "outputs": [],
      "source": []
    },
    {
      "cell_type": "markdown",
      "source": [
        "線形代数\n",
        "行列の掛け算を行うプログラム\n",
        "行と列を入力すると行列をつくりその行列同士の掛け算を行うプログラム"
      ],
      "metadata": {
        "id": "FYJDwHeM0X9f"
      }
    },
    {
      "cell_type": "markdown",
      "source": [
        "numpyを使ってプログラムを作成する"
      ],
      "metadata": {
        "id": "-FMU62U2tBgl"
      }
    }
  ]
}