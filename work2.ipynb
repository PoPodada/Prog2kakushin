{
  "nbformat": 4,
  "nbformat_minor": 0,
  "metadata": {
    "colab": {
      "provenance": [],
      "authorship_tag": "ABX9TyPo89lVNuZERqQEaCELf7qC",
      "include_colab_link": true
    },
    "kernelspec": {
      "name": "python3",
      "display_name": "Python 3"
    },
    "language_info": {
      "name": "python"
    }
  },
  "cells": [
    {
      "cell_type": "markdown",
      "metadata": {
        "id": "view-in-github",
        "colab_type": "text"
      },
      "source": [
        "<a href=\"https://colab.research.google.com/github/PoPodada/Prog2kakushin/blob/main/work2.ipynb\" target=\"_parent\"><img src=\"https://colab.research.google.com/assets/colab-badge.svg\" alt=\"Open In Colab\"/></a>"
      ]
    },
    {
      "cell_type": "markdown",
      "source": [
        "ホテル又はカラオケといった部屋の予約の場面を想定しています．\n",
        "\n",
        "プログラムを実行した際に入室か退室かを聞かれ入室であれば，どの部屋が利用できるのかの候補を表示使いたい部屋を入力するとその部屋が埋まり表示されます．\n",
        "\n",
        "退室を選んだ際は，どの部屋を使っていたかを聞かれその部屋が空室になります．\n",
        "\n",
        "停止と入力するとプログラムを停止することが出来ます．"
      ],
      "metadata": {
        "id": "FYJDwHeM0X9f"
      }
    },
    {
      "cell_type": "markdown",
      "source": [
        "numpyを使ってプログラムを作成する"
      ],
      "metadata": {
        "id": "-FMU62U2tBgl"
      }
    },
    {
      "cell_type": "code",
      "source": [
        "import numpy as np\n",
        "#numpyをインポートしてください"
      ],
      "metadata": {
        "id": "IQ6smODVpCog"
      },
      "execution_count": 49,
      "outputs": []
    },
    {
      "cell_type": "code",
      "execution_count": 50,
      "metadata": {
        "id": "XL7d4Fhws-VN",
        "outputId": "84e01f83-cc69-4d61-ba11-a70f462c0f93",
        "colab": {
          "base_uri": "https://localhost:8080/"
        }
      },
      "outputs": [
        {
          "output_type": "stream",
          "name": "stdout",
          "text": [
            "[[101 102 103 104]\n",
            " [201 202 203 204]\n",
            " [301 302 303 304]\n",
            " [401 402 403   0]]\n",
            "[[0 0 0 0]\n",
            " [0 0 0 0]\n",
            " [0 0 0 0]\n",
            " [0 0 0 0]]\n",
            "[[101 102 103 104]\n",
            " [201 202 203 204]\n",
            " [301 302 303 304]\n",
            " [401 402 403 404]]\n"
          ]
        }
      ],
      "source": [
        "room_row = np.array([[101,102,103,104],[201,202,203,204],[301,302,303,304],[401,402,403,0]])\n",
        "room_max= np.array([[0,0,0,0],[0,0,0,0],[0,0,0,0],[0,0,0,0]])\n",
        "format_room=np.array([[101,102,103,104],[201,202,203,204],[301,302,303,304],[401,402,403,404]])\n",
        "print(room_row)\n",
        "print(room_max)\n",
        "print(format_room)\n",
        "#プログラムを実行する際に必要なデータです"
      ]
    },
    {
      "cell_type": "code",
      "source": [
        "\n",
        "while True:\n",
        "  which_question=input(\"入室と退室のどちらですか：\")#入室か退室かのどちらかを聞かれるので入室又は退室を入力（停止と入力するとプログラムが止められます）\n",
        "  \n",
        "  if which_question==\"入室\":\n",
        "    print(\"現在の部屋の候補として\")\n",
        "    print(room_row[room_row != room_max])\n",
        "    question=int(input(\"好きな部屋を入力してください:\"))#候補として表示された部屋を入力\n",
        "    room_row=np.where(question==room_row,0, room_row)\n",
        "    print(room_row)\n",
        "    print(f\"{question}の部屋が埋まりました\")\n",
        "  elif which_question==\"退室\":\n",
        "    leaving_room=int(input(\"どの部屋を使っていましたか？：\"))#埋まっている部屋を入力\n",
        "    room_row=np.where(leaving_room==format_room,leaving_room,room_row)\n",
        "    print(room_row)\n",
        "    print(\"ご利用ありがとうございました\")\n",
        "  elif which_question==\"停止\":\n",
        "    print(\"プログラムを停止しました\")\n",
        "    break\n",
        "  "
      ],
      "metadata": {
        "id": "D__9aK_rpBaK",
        "outputId": "74d29ed3-522f-4d71-d27b-9ef892579557",
        "colab": {
          "base_uri": "https://localhost:8080/"
        }
      },
      "execution_count": 51,
      "outputs": [
        {
          "output_type": "stream",
          "name": "stdout",
          "text": [
            "入室と退室のどちらですか：入室\n",
            "現在の部屋の候補として\n",
            "[101 102 103 104 201 202 203 204 301 302 303 304 401 402 403]\n",
            "好きな部屋を入力してください:101\n",
            "[[  0 102 103 104]\n",
            " [201 202 203 204]\n",
            " [301 302 303 304]\n",
            " [401 402 403   0]]\n",
            "101の部屋が埋まりました\n",
            "入室と退室のどちらですか：入室\n",
            "現在の部屋の候補として\n",
            "[102 103 104 201 202 203 204 301 302 303 304 401 402 403]\n",
            "好きな部屋を入力してください:203\n",
            "[[  0 102 103 104]\n",
            " [201 202   0 204]\n",
            " [301 302 303 304]\n",
            " [401 402 403   0]]\n",
            "203の部屋が埋まりました\n",
            "入室と退室のどちらですか：退室\n",
            "どの部屋を使っていましたか？：203\n",
            "[[  0 102 103 104]\n",
            " [201 202 203 204]\n",
            " [301 302 303 304]\n",
            " [401 402 403   0]]\n",
            "ご利用ありがとうございました\n",
            "入室と退室のどちらですか：停止\n",
            "プログラムを停止しました\n"
          ]
        }
      ]
    }
  ]
}