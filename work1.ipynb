{
  "nbformat": 4,
  "nbformat_minor": 0,
  "metadata": {
    "colab": {
      "provenance": [],
      "authorship_tag": "ABX9TyN2zcIw0WF0W6VnPTm9XG1R",
      "include_colab_link": true
    },
    "kernelspec": {
      "name": "python3",
      "display_name": "Python 3"
    },
    "language_info": {
      "name": "python"
    }
  },
  "cells": [
    {
      "cell_type": "markdown",
      "metadata": {
        "id": "view-in-github",
        "colab_type": "text"
      },
      "source": [
        "<a href=\"https://colab.research.google.com/github/PoPodada/Prog2kakushin/blob/main/work1.ipynb\" target=\"_parent\"><img src=\"https://colab.research.google.com/assets/colab-badge.svg\" alt=\"Open In Colab\"/></a>"
      ]
    },
    {
      "cell_type": "code",
      "source": [
        "import pandas as pd\n",
        "import sys\n",
        "import os"
      ],
      "metadata": {
        "id": "y3xuNTCCtUbv"
      },
      "execution_count": null,
      "outputs": []
    },
    {
      "cell_type": "code",
      "source": [
        "!wget \"https://drive.google.com/uc?export=download&id=14cCVR9WpbUTd7a2UuyRrGmXg36GBSAuK\" -O sample.csv"
      ],
      "metadata": {
        "id": "FOeqlq3DrG_r"
      },
      "execution_count": null,
      "outputs": []
    },
    {
      "cell_type": "code",
      "source": [
        "table_title=input(\"読み込むファイルの名前を入力してください:\")\n",
        "#キーボードからファイル名を入力する\n",
        "if os.path.exists(table_title)==False:\n",
        "  print(\"そのファイルはありません\")\n",
        "  sys.exit()\n",
        "  #ファイル名を入力した際にそのファイルが存在しなければそのファイルはありませんと出る\n",
        "else:\n",
        "  df = pd.read_csv(table_title)\n",
        "  print(\"行インデックスを抽出しました\")\n",
        "  header=df.columns#行インデックスを抽出する\n",
        "  print(header)\n",
        "  item=input(\"調べたい項目を入力してください：\") #抽出した行インデックスから項目を確認することが出来ます\n",
        "  selection_mean = df[item].mean()\n",
        "  selection_min =  df[item].min()\n",
        "  selection_max =  df[item].max()\n",
        "  print(\"平均:\", selection_mean)\n",
        "  print(\"最大値:\",selection_max)\n",
        "  print(\"最小値:\",selection_min) \n",
        "  \n"
      ],
      "metadata": {
        "id": "gpR12w_OTDz2",
        "outputId": "4ccab591-2128-4a95-fdb5-d0b33efa25c0",
        "colab": {
          "base_uri": "https://localhost:8080/"
        }
      },
      "execution_count": 26,
      "outputs": [
        {
          "output_type": "stream",
          "name": "stdout",
          "text": [
            "読み込むファイルの名前を入力してください:sample.csv\n",
            "行インデックスを抽出しました\n",
            "Index(['Unnamed: 0', '身長', '体重'], dtype='object')\n",
            "調べたい項目を入力してください：身長\n",
            "平均: 163.8\n",
            "最大値: 175\n",
            "最小値: 147\n"
          ]
        }
      ]
    },
    {
      "cell_type": "markdown",
      "source": [
        "CSVファイルを読み込んだときに，\n",
        "任意の行インデックスの項目を指定するとその項目の\n",
        "平均値と最大値と最小値を表示してくれるプログラム\n"
      ],
      "metadata": {
        "id": "y0OOFh_12IQU"
      }
    },
    {
      "cell_type": "markdown",
      "source": [
        "pandasを使ったプログラムを作成する\n"
      ],
      "metadata": {
        "id": "yCcY9ycesQJ0"
      }
    }
  ]
}