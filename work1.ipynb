{
  "nbformat": 4,
  "nbformat_minor": 0,
  "metadata": {
    "colab": {
      "provenance": [],
      "authorship_tag": "ABX9TyMJqKE3PYsqAIKRL2ZHMxvs",
      "include_colab_link": true
    },
    "kernelspec": {
      "name": "python3",
      "display_name": "Python 3"
    },
    "language_info": {
      "name": "python"
    }
  },
  "cells": [
    {
      "cell_type": "markdown",
      "metadata": {
        "id": "view-in-github",
        "colab_type": "text"
      },
      "source": [
        "<a href=\"https://colab.research.google.com/github/PoPodada/Prog2kakushin/blob/main/work1.ipynb\" target=\"_parent\"><img src=\"https://colab.research.google.com/assets/colab-badge.svg\" alt=\"Open In Colab\"/></a>"
      ]
    },
    {
      "cell_type": "markdown",
      "source": [
        "CSVファイルを読み込んだときに，\n",
        "任意の行インデックスの項目を指定するとその項目の\n",
        "平均値と最大値と最小値を表示してくれるプログラム\n"
      ],
      "metadata": {
        "id": "y0OOFh_12IQU"
      }
    },
    {
      "cell_type": "markdown",
      "source": [
        "pandasを使ったプログラムを作成する\n"
      ],
      "metadata": {
        "id": "yCcY9ycesQJ0"
      }
    },
    {
      "cell_type": "code",
      "source": [
        "import pandas as pd\n",
        "import sys\n",
        "import os"
      ],
      "metadata": {
        "id": "y3xuNTCCtUbv"
      },
      "execution_count": null,
      "outputs": []
    },
    {
      "cell_type": "code",
      "source": [
        "!wget \"https://drive.google.com/uc?export=download&id=14cCVR9WpbUTd7a2UuyRrGmXg36GBSAuK\" -O sample.csv"
      ],
      "metadata": {
        "id": "FOeqlq3DrG_r"
      },
      "execution_count": null,
      "outputs": []
    },
    {
      "cell_type": "markdown",
      "source": [
        "読み込むファイルとして　sample.csv　を入力してください"
      ],
      "metadata": {
        "id": "Pk9kEfwju_yN"
      }
    },
    {
      "cell_type": "code",
      "source": [
        "table_title=input(\"読み込むファイルの名前を入力してください:\")\n",
        "#キーボードからファイル名を入力する\n",
        "if os.path.exists(table_title)==False:\n",
        "  print(\"そのファイルはありません\")\n",
        "  sys.exit()\n",
        "  #ファイル名を入力した際にそのファイルが存在しなければ((そのファイルはありません))と出る\n",
        "else:\n",
        "  df = pd.read_csv(table_title)\n",
        "  print(\"行インデックスを抽出しました\")\n",
        "  header=df.columns#行インデックスを抽出する\n",
        "  print(header)\n",
        "  item=input(\"調べたい項目を入力してください：\") #抽出した行インデックスから項目を確認することが出来ます\n",
        "  selection_mean = df[item].mean()#平均値\n",
        "  selection_min =  df[item].min() #最小値\n",
        "  selection_max =  df[item].max() #最大値\n",
        "  print(\"平均:\", selection_mean)\n",
        "  print(\"最大値:\",selection_max)\n",
        "  print(\"最小値:\",selection_min) \n",
        "  \n"
      ],
      "metadata": {
        "id": "gpR12w_OTDz2",
        "outputId": "bbb88e6f-345b-4a18-a5b8-9cf9c57a42b3",
        "colab": {
          "base_uri": "https://localhost:8080/"
        }
      },
      "execution_count": null,
      "outputs": [
        {
          "output_type": "stream",
          "name": "stdout",
          "text": [
            "読み込むファイルの名前を入力してください:sample.csv\n",
            "行インデックスを抽出しました\n",
            "Index(['Unnamed: 0', '身長', '体重'], dtype='object')\n",
            "調べたい項目を入力してください：身長\n",
            "平均: 163.8\n",
            "最大値: 175\n",
            "最小値: 147\n"
          ]
        }
      ]
    },
    {
      "cell_type": "markdown",
      "source": [
        "行インデックスで抽出したい項目があるか聞かれるため\"yes\"と入力すると削除されます"
      ],
      "metadata": {
        "id": "KQe-17r86c1h"
      }
    },
    {
      "cell_type": "code",
      "source": [
        "for i in range(len(header)-1):\n",
        "  question=input(f\"{header[i+1]}を削除しますか？:\")\n",
        "  if question==\"yes\":#その項目を消したい場合はyesと入力してください\n",
        "    df=df.drop(str(header[i+1]),axis=1)\n",
        "df    "
      ],
      "metadata": {
        "id": "jyfL0AhV4UkN",
        "outputId": "b0eddf17-0b70-4331-f362-5efadf230303",
        "colab": {
          "base_uri": "https://localhost:8080/",
          "height": 243
        }
      },
      "execution_count": null,
      "outputs": [
        {
          "name": "stdout",
          "output_type": "stream",
          "text": [
            "身長を削除しますか？yes\n",
            "体重を削除しますか？no\n"
          ]
        },
        {
          "output_type": "execute_result",
          "data": {
            "text/plain": [
              "  Unnamed: 0  体重\n",
              "0          A  68\n",
              "1          B  53\n",
              "2          C  57\n",
              "3          D  75\n",
              "4          E  75"
            ],
            "text/html": [
              "\n",
              "  <div id=\"df-fa448862-3033-4d38-ac28-e7093c0a21d2\">\n",
              "    <div class=\"colab-df-container\">\n",
              "      <div>\n",
              "<style scoped>\n",
              "    .dataframe tbody tr th:only-of-type {\n",
              "        vertical-align: middle;\n",
              "    }\n",
              "\n",
              "    .dataframe tbody tr th {\n",
              "        vertical-align: top;\n",
              "    }\n",
              "\n",
              "    .dataframe thead th {\n",
              "        text-align: right;\n",
              "    }\n",
              "</style>\n",
              "<table border=\"1\" class=\"dataframe\">\n",
              "  <thead>\n",
              "    <tr style=\"text-align: right;\">\n",
              "      <th></th>\n",
              "      <th>Unnamed: 0</th>\n",
              "      <th>体重</th>\n",
              "    </tr>\n",
              "  </thead>\n",
              "  <tbody>\n",
              "    <tr>\n",
              "      <th>0</th>\n",
              "      <td>A</td>\n",
              "      <td>68</td>\n",
              "    </tr>\n",
              "    <tr>\n",
              "      <th>1</th>\n",
              "      <td>B</td>\n",
              "      <td>53</td>\n",
              "    </tr>\n",
              "    <tr>\n",
              "      <th>2</th>\n",
              "      <td>C</td>\n",
              "      <td>57</td>\n",
              "    </tr>\n",
              "    <tr>\n",
              "      <th>3</th>\n",
              "      <td>D</td>\n",
              "      <td>75</td>\n",
              "    </tr>\n",
              "    <tr>\n",
              "      <th>4</th>\n",
              "      <td>E</td>\n",
              "      <td>75</td>\n",
              "    </tr>\n",
              "  </tbody>\n",
              "</table>\n",
              "</div>\n",
              "      <button class=\"colab-df-convert\" onclick=\"convertToInteractive('df-fa448862-3033-4d38-ac28-e7093c0a21d2')\"\n",
              "              title=\"Convert this dataframe to an interactive table.\"\n",
              "              style=\"display:none;\">\n",
              "        \n",
              "  <svg xmlns=\"http://www.w3.org/2000/svg\" height=\"24px\"viewBox=\"0 0 24 24\"\n",
              "       width=\"24px\">\n",
              "    <path d=\"M0 0h24v24H0V0z\" fill=\"none\"/>\n",
              "    <path d=\"M18.56 5.44l.94 2.06.94-2.06 2.06-.94-2.06-.94-.94-2.06-.94 2.06-2.06.94zm-11 1L8.5 8.5l.94-2.06 2.06-.94-2.06-.94L8.5 2.5l-.94 2.06-2.06.94zm10 10l.94 2.06.94-2.06 2.06-.94-2.06-.94-.94-2.06-.94 2.06-2.06.94z\"/><path d=\"M17.41 7.96l-1.37-1.37c-.4-.4-.92-.59-1.43-.59-.52 0-1.04.2-1.43.59L10.3 9.45l-7.72 7.72c-.78.78-.78 2.05 0 2.83L4 21.41c.39.39.9.59 1.41.59.51 0 1.02-.2 1.41-.59l7.78-7.78 2.81-2.81c.8-.78.8-2.07 0-2.86zM5.41 20L4 18.59l7.72-7.72 1.47 1.35L5.41 20z\"/>\n",
              "  </svg>\n",
              "      </button>\n",
              "      \n",
              "  <style>\n",
              "    .colab-df-container {\n",
              "      display:flex;\n",
              "      flex-wrap:wrap;\n",
              "      gap: 12px;\n",
              "    }\n",
              "\n",
              "    .colab-df-convert {\n",
              "      background-color: #E8F0FE;\n",
              "      border: none;\n",
              "      border-radius: 50%;\n",
              "      cursor: pointer;\n",
              "      display: none;\n",
              "      fill: #1967D2;\n",
              "      height: 32px;\n",
              "      padding: 0 0 0 0;\n",
              "      width: 32px;\n",
              "    }\n",
              "\n",
              "    .colab-df-convert:hover {\n",
              "      background-color: #E2EBFA;\n",
              "      box-shadow: 0px 1px 2px rgba(60, 64, 67, 0.3), 0px 1px 3px 1px rgba(60, 64, 67, 0.15);\n",
              "      fill: #174EA6;\n",
              "    }\n",
              "\n",
              "    [theme=dark] .colab-df-convert {\n",
              "      background-color: #3B4455;\n",
              "      fill: #D2E3FC;\n",
              "    }\n",
              "\n",
              "    [theme=dark] .colab-df-convert:hover {\n",
              "      background-color: #434B5C;\n",
              "      box-shadow: 0px 1px 3px 1px rgba(0, 0, 0, 0.15);\n",
              "      filter: drop-shadow(0px 1px 2px rgba(0, 0, 0, 0.3));\n",
              "      fill: #FFFFFF;\n",
              "    }\n",
              "  </style>\n",
              "\n",
              "      <script>\n",
              "        const buttonEl =\n",
              "          document.querySelector('#df-fa448862-3033-4d38-ac28-e7093c0a21d2 button.colab-df-convert');\n",
              "        buttonEl.style.display =\n",
              "          google.colab.kernel.accessAllowed ? 'block' : 'none';\n",
              "\n",
              "        async function convertToInteractive(key) {\n",
              "          const element = document.querySelector('#df-fa448862-3033-4d38-ac28-e7093c0a21d2');\n",
              "          const dataTable =\n",
              "            await google.colab.kernel.invokeFunction('convertToInteractive',\n",
              "                                                     [key], {});\n",
              "          if (!dataTable) return;\n",
              "\n",
              "          const docLinkHtml = 'Like what you see? Visit the ' +\n",
              "            '<a target=\"_blank\" href=https://colab.research.google.com/notebooks/data_table.ipynb>data table notebook</a>'\n",
              "            + ' to learn more about interactive tables.';\n",
              "          element.innerHTML = '';\n",
              "          dataTable['output_type'] = 'display_data';\n",
              "          await google.colab.output.renderOutput(dataTable, element);\n",
              "          const docLink = document.createElement('div');\n",
              "          docLink.innerHTML = docLinkHtml;\n",
              "          element.appendChild(docLink);\n",
              "        }\n",
              "      </script>\n",
              "    </div>\n",
              "  </div>\n",
              "  "
            ]
          },
          "metadata": {},
          "execution_count": 52
        }
      ]
    }
  ]
}