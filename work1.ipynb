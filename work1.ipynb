{
  "nbformat": 4,
  "nbformat_minor": 0,
  "metadata": {
    "colab": {
      "provenance": [],
      "authorship_tag": "ABX9TyP0MeKS6q8DUgoh1BDPIqoy",
      "include_colab_link": true
    },
    "kernelspec": {
      "name": "python3",
      "display_name": "Python 3"
    },
    "language_info": {
      "name": "python"
    }
  },
  "cells": [
    {
      "cell_type": "markdown",
      "metadata": {
        "id": "view-in-github",
        "colab_type": "text"
      },
      "source": [
        "<a href=\"https://colab.research.google.com/github/PoPodada/Prog2kakushin/blob/main/work1.ipynb\" target=\"_parent\"><img src=\"https://colab.research.google.com/assets/colab-badge.svg\" alt=\"Open In Colab\"/></a>"
      ]
    },
    {
      "cell_type": "code",
      "source": [
        "import pandas as pd\n",
        "import sys\n",
        "import os"
      ],
      "metadata": {
        "id": "y3xuNTCCtUbv"
      },
      "execution_count": 8,
      "outputs": []
    },
    {
      "cell_type": "code",
      "source": [
        "table_title=input(\"読み込むファイルの名前を入力してください:\")\n",
        "if os.path.exists(table_title)==False:\n",
        "  print(\"そのファイルはありません\")\n",
        "  sys.exit()\n",
        "else:\n",
        "  df = pd.read_csv(table_title)\n",
        "  header=df.columns\n",
        "  print(header)\n",
        "  item=input(\"調べたい項目を入力してください：\") \n",
        "  selection_mean = df[item].mean()\n",
        "  selection_min =  df[item].min()\n",
        "  selection_max =  df[item].max()\n",
        "  print(\"平均:\", selection_mean)\n",
        "  print(\"最大値:\",selection_max)\n",
        "  print(\"最小値:\",selection_min) \n",
        "  \n"
      ],
      "metadata": {
        "id": "gpR12w_OTDz2",
        "outputId": "43ed015b-89c8-459a-874d-4cdeaf6023e4",
        "colab": {
          "base_uri": "https://localhost:8080/"
        }
      },
      "execution_count": 21,
      "outputs": [
        {
          "output_type": "stream",
          "name": "stdout",
          "text": [
            "読み込むファイルの名前を入力してください:pro2.csv\n",
            "Index(['Unnamed: 0', '身長', '体重'], dtype='object')\n",
            "調べたい項目を入力してください：身長\n",
            "平均: 163.8\n",
            "最大値: 175\n",
            "最小値: 147\n"
          ]
        }
      ]
    },
    {
      "cell_type": "markdown",
      "source": [
        "CSVファイルを読み込んだときに，\n",
        "任意の行インデックスの項目を指定するとその項目の\n",
        "平均値と最大値と最小値を表示してくれるプログラム\n"
      ],
      "metadata": {
        "id": "y0OOFh_12IQU"
      }
    },
    {
      "cell_type": "markdown",
      "source": [
        "pandasを使ったプログラムを作成する\n"
      ],
      "metadata": {
        "id": "yCcY9ycesQJ0"
      }
    }
  ]
}